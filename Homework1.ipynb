{
  "nbformat": 4,
  "nbformat_minor": 0,
  "metadata": {
    "colab": {
      "provenance": [],
      "include_colab_link": true
    },
    "kernelspec": {
      "name": "python3",
      "display_name": "Python 3"
    },
    "language_info": {
      "name": "python"
    }
  },
  "cells": [
    {
      "cell_type": "markdown",
      "metadata": {
        "id": "view-in-github",
        "colab_type": "text"
      },
      "source": [
        "<a href=\"https://colab.research.google.com/github/MeryemMichraf/OlympicGamesAnalysis_project/blob/main/Homework1.ipynb\" target=\"_parent\"><img src=\"https://colab.research.google.com/assets/colab-badge.svg\" alt=\"Open In Colab\"/></a>"
      ]
    },
    {
      "cell_type": "markdown",
      "source": [
        "## Homework 1: Data, Expressions, and Conditionals\n",
        "\n",
        "*   You can use the internet to search syntax and math functions, but all code must be written from scratch.\n",
        "*   The purpose of this assignment is to reinforce concepts covered in lecture. Do NOT use loops, Strings, recursion, etc. to solve these problems. Every problem can be done with if/else statements and integer operations\n",
        "\n",
        "\n",
        "\n"
      ],
      "metadata": {
        "id": "M2fsjxxh74fP"
      }
    },
    {
      "cell_type": "markdown",
      "source": [
        "**Problem 0: Nearest Bus Stop (20 pts)**\n",
        "\n",
        "Write the function nearestBusStop(street) that takes a non-negative int street number, and returns the nearest bus stop to the given street, where buses stop every 8th street, including street 0, and ties go to the lower street, so the nearest bus stop to 12th street is 8th street, and the nearest bus stop to 13 street is 16th street.\n"
      ],
      "metadata": {
        "id": "VEAE08Fu88MU"
      }
    },
    {
      "cell_type": "code",
      "source": [
        "import math"
      ],
      "metadata": {
        "id": "ZTcD2PQF-HZP"
      },
      "execution_count": null,
      "outputs": []
    },
    {
      "cell_type": "code",
      "execution_count": 1,
      "metadata": {
        "id": "kbEsMnYR71J3"
      },
      "outputs": [],
      "source": [
        "import math\n",
        "def nearestBusStop(street):\n",
        "    remainder = street % 8\n",
        "    if remainder <= 4:\n",
        "        return street - remainder\n",
        "    else:\n",
        "        return street + (8 - remainder)"
      ]
    },
    {
      "cell_type": "code",
      "source": [
        "def testNearestBusStop():\n",
        "    print(\"Testing nearestBusStop()...\", end=\"\")\n",
        "    assert(nearestBusStop(0) == 0)\n",
        "    assert(nearestBusStop(4) == 0)\n",
        "    assert(nearestBusStop(5) == 8)\n",
        "    assert(nearestBusStop(12) == 8)\n",
        "    assert(nearestBusStop(13) == 16)\n",
        "    assert(nearestBusStop(20) == 16)\n",
        "    assert(nearestBusStop(21) == 24)\n",
        "    assert(nearestBusStop(1010) == 1008)\n",
        "    assert(nearestBusStop(101000090) == 101000088)\n",
        "    print(\"Passed. (Add more tests to be more sure!)\")\n",
        "\n",
        "testNearestBusStop()"
      ],
      "metadata": {
        "id": "59Np1i2W87a6",
        "outputId": "1bf1a99f-a9f8-4d9e-ad24-770f2a2d63e1",
        "colab": {
          "base_uri": "https://localhost:8080/"
        }
      },
      "execution_count": 2,
      "outputs": [
        {
          "output_type": "stream",
          "name": "stdout",
          "text": [
            "Testing nearestBusStop()...Passed. (Add more tests to be more sure!)\n"
          ]
        }
      ]
    },
    {
      "cell_type": "markdown",
      "source": [
        "**Problem 1: IsLegalTriangle (20 pts)**\n",
        "\n",
        "Write the function isLegalTriangle(s1, s2, s3) that takes three int or float values representing the lengths of the sides of a triangle, and returns True if such a triangle exists and False otherwise. Note from the triangle inequality that the sum of each two sides must be greater than the third side, and further note that all sides of a legal triangle must be positive.\n"
      ],
      "metadata": {
        "id": "wlR06FsT9ZrG"
      }
    },
    {
      "cell_type": "code",
      "source": [
        "def isLegalTriangle(s1, s2, s3):\n",
        "    if s1 <= 0 or s2 <= 0 or s3 <= 0:\n",
        "        return False\n",
        "    if (s1 + s2 > s3) and (s1 + s3 > s2) and (s2 + s3 > s1):\n",
        "        return True\n",
        "    else:\n",
        "        return False"
      ],
      "metadata": {
        "id": "TQQM2Yrf9kFR"
      },
      "execution_count": 3,
      "outputs": []
    },
    {
      "cell_type": "code",
      "source": [
        "def testIsLegalTriangle():\n",
        "    print(\"Testing isLegalTriangle()...\", end=\"\")\n",
        "    assert(isLegalTriangle(3, 4, 5))\n",
        "    assert(isLegalTriangle(5, 4, 3))\n",
        "    assert(isLegalTriangle(3, 5, 4))\n",
        "    assert(isLegalTriangle(0.3, 0.4, 0.5))\n",
        "    assert(not isLegalTriangle(3, 4, 7))\n",
        "    assert(not isLegalTriangle(7, 4, 3))\n",
        "    assert(not isLegalTriangle(3, 7, 4))\n",
        "    assert(not isLegalTriangle(5, -3, 1))\n",
        "    assert(not isLegalTriangle(-3, -4, -5))\n",
        "    print(\"Passed.\")\n",
        "    print(\"(Add more tests to be more sure!)\")\n",
        "\n",
        "testIsLegalTriangle()"
      ],
      "metadata": {
        "id": "so_n2Jg99lko",
        "colab": {
          "base_uri": "https://localhost:8080/"
        },
        "outputId": "17b3ee34-608c-4ae7-a866-f7b3a7f5d1b9"
      },
      "execution_count": 4,
      "outputs": [
        {
          "output_type": "stream",
          "name": "stdout",
          "text": [
            "Testing isLegalTriangle()...Passed.\n",
            "(Add more tests to be more sure!)\n"
          ]
        }
      ]
    },
    {
      "cell_type": "markdown",
      "source": [
        "**Problem 2: Distance (15 pts)**\n",
        "\n",
        "Return the distance between two points (x1, y1) and (x2, y2) using the distance formula. Hint: Use the math library to find special math functions such as sqrt."
      ],
      "metadata": {
        "id": "PZnCd3JR99D-"
      }
    },
    {
      "cell_type": "code",
      "source": [
        "import math\n",
        "def distance(x1, y1, x2, y2):\n",
        "\n",
        "    return math.sqrt((x2 - x1) ** 2 + (y2 - y1) ** 2)\n",
        "\n",
        "def almostEqual(d1, d2, epsilon=10**-7):\n",
        "\n",
        "    return abs(d1 - d2) < epsilon"
      ],
      "metadata": {
        "id": "De__G3Re-BNr"
      },
      "execution_count": 7,
      "outputs": []
    },
    {
      "cell_type": "code",
      "source": [
        "def testDistance():\n",
        "    print(\"Testing distance()...\", end=\"\")\n",
        "    assert(almostEqual(distance(0, 0, 1, 1), 2**0.5))\n",
        "    assert(almostEqual(distance(3, -3, -3, -3), 6))\n",
        "    assert(almostEqual(distance(20, 23, 20, 24), 1))\n",
        "    assert(almostEqual(distance(30, 12, 23, 3900), 3888.0063014352227))\n",
        "    assert(almostEqual(distance(-430.23, 121, 3000000000, 3900), 3000000430.23238))\n",
        "    assert(almostEqual(distance(-.4323, .121, .3, .39), 0.7801437623925477))\n",
        "    print(\"Passed. (Add more tests to be more sure!)\")\n",
        "\n",
        "testDistance()"
      ],
      "metadata": {
        "id": "velc3rSs9_zv",
        "colab": {
          "base_uri": "https://localhost:8080/"
        },
        "outputId": "47bec58b-0f11-45a8-c70e-fb9eef4ac02b"
      },
      "execution_count": 10,
      "outputs": [
        {
          "output_type": "stream",
          "name": "stdout",
          "text": [
            "Testing distance()...Passed. (Add more tests to be more sure!)\n"
          ]
        }
      ]
    },
    {
      "cell_type": "markdown",
      "source": [
        "**Problem 3: AreCollinear (20 pts)**\n",
        "\n",
        "Write the function areCollinear(x1, y1, x2, y2, x3, y3) that takes six integer values representing three points (x1,y1), (x2,y2), and (x3,y3), and returns True if those points all lie on a single line, and False otherwise. Don't crash when checking for a vertical line! The slope formula is (y1-y2)/(x1-x2).\n"
      ],
      "metadata": {
        "id": "q7nYIV8E--Q0"
      }
    },
    {
      "cell_type": "code",
      "source": [
        "def areCollinear(x1, y1, x2, y2, x3, y3):\n",
        "\n",
        "    return (y2 - y1) * (x3 - x2) == (y3 - y2) * (x2 - x1)"
      ],
      "metadata": {
        "id": "Wb7sV1G0_HA_"
      },
      "execution_count": 11,
      "outputs": []
    },
    {
      "cell_type": "code",
      "source": [
        "def testAreCollinear():\n",
        "    print(\"Testing testAreCollinear()...\", end=\"\")\n",
        "    assert(areCollinear(0, 0, 1, 1, 2, 2) == True)\n",
        "    assert(areCollinear(0, 0, 1, 1, 2, 3) == False)\n",
        "    assert(areCollinear(1, 1, 0, 0, 2, 2) == True)\n",
        "    assert(areCollinear(1, 1, 0, -1, 2, 2) == False)\n",
        "    assert(areCollinear(2, 0, 2, 1, 2, 2) == True)\n",
        "    assert(areCollinear(2, 0, 2, 1, 3, 2) == False)\n",
        "    assert(areCollinear(3, 0, 2, 1, 3, 2) == False)\n",
        "    assert(areCollinear(-1, -1, -2, -2, -3, -3) == True)\n",
        "    assert(areCollinear(-1, -1, -1, -2, -1, -4) == True)\n",
        "    print(\"Passed.\")\n",
        "    print(\"(Add more tests to be more sure!)\")\n",
        "\n",
        "testAreCollinear()"
      ],
      "metadata": {
        "id": "TxlcmabW_HMc",
        "outputId": "661172c2-8b35-4510-e00c-2cfeb6711296",
        "colab": {
          "base_uri": "https://localhost:8080/"
        }
      },
      "execution_count": 12,
      "outputs": [
        {
          "output_type": "stream",
          "name": "stdout",
          "text": [
            "Testing testAreCollinear()...Passed.\n",
            "(Add more tests to be more sure!)\n"
          ]
        }
      ]
    },
    {
      "cell_type": "markdown",
      "source": [
        "**Problem 4: Color Blender (25 pts)**\n",
        "\n",
        "This problem implements a color blender with integer RGB values. Note that RGB values contain 3 integers, each between 0 and 255, representing the amount of red, green, and blue respectively in the given color, where 255 is \"entirely on\" and 0 is \"entirely off\".\n",
        "\n",
        "For example, let's combine crimson (rgb(220, 20, 60)) and mint (rgb(188, 252, 201)) to produce this color: rbg(204, 136, 131)\n",
        "\n",
        "We also need to represent these RGB values as a single integer. To do that, we'll use the first 3 digits for red, the next 3 for green, the last 3 for blue. Hence, we'll represent crimson as the integer 220020060, and mint as the integer 189252201.\n",
        "\n",
        "With all that in mind, write the function colorBlender(rgb1, rgb2), which takes two integers representing colors encoded as just described and returns the mixture of the two colors.\n"
      ],
      "metadata": {
        "id": "-HPIBAwj9_J3"
      }
    },
    {
      "cell_type": "code",
      "source": [
        "def colorBlender(rgb1, rgb2):\n",
        "    red1 = rgb1 // 1000000\n",
        "    green1 = (rgb1 % 1000000) // 1000\n",
        "    blue1 = rgb1 % 1000\n",
        "\n",
        "    red2 = rgb2 // 1000000\n",
        "    green2 = (rgb2 % 1000000) // 1000\n",
        "    blue2 = rgb2 % 1000\n",
        "\n",
        "    redAvg = (red1 + red2) // 2\n",
        "    greenAvg = (green1 + green2) // 2\n",
        "    blueAvg = (blue1 + blue2) // 2\n",
        "\n",
        "    blendedColor = redAvg * 1000000 + greenAvg * 1000 + blueAvg\n",
        "    return blendedColor"
      ],
      "metadata": {
        "id": "0giemCik-SwC"
      },
      "execution_count": 13,
      "outputs": []
    },
    {
      "cell_type": "code",
      "source": [
        "def testColorBlender():\n",
        "    print('Testing colorBlender()... ', end='')\n",
        "    assert(colorBlender(220020060, 189252201) == 204136130)\n",
        "    assert(colorBlender(1000255, 255002128) == 128001191)\n",
        "    print('Passed.')\n",
        "\n",
        "testColorBlender()"
      ],
      "metadata": {
        "id": "eNkgFj6V-S9C",
        "colab": {
          "base_uri": "https://localhost:8080/"
        },
        "outputId": "ec721731-ee57-44d6-cc79-1f1f4cfb9113"
      },
      "execution_count": 14,
      "outputs": [
        {
          "output_type": "stream",
          "name": "stdout",
          "text": [
            "Testing colorBlender()... Passed.\n"
          ]
        }
      ]
    },
    {
      "cell_type": "markdown",
      "source": [
        "**Bonus: Advanced Color Blender (10 pts)**\n",
        "\n",
        "This problem builds on the previous color blender, but instead of finding the middle of both colors, we will output a gradient.\n",
        "\n",
        "For example, consider this case. Here, we are combining crimson (rgb(220, 20, 60)) and mint (rgb(189, 252, 201)), using 3 midpoints, to produce this palette:\n",
        "```\n",
        "color #0: rgb(220,20,60)\n",
        "color #1: rgb(212,78,95)\n",
        "color #2: rgb(205,136,131)\n",
        "color #3: rgb(197,194,166)\n",
        "color #4: rgb(189,252,201)\n",
        "```\n",
        "\n",
        "There are 5 colors in the palette because the first color is crimson, the last color is mint, and the middle 3 colors are equally spaced between them.\n",
        "\n",
        "If we start with crimson and go to mint, with 3 midpoints, what is color #1? It would be rgb(212,78,95).\n",
        "\n",
        "With that info, write the function updatedColorBlender(rgb1, rgb2, midpoints, n), which takes two integers representing rgb colors, a non-negative integer number of midpoints, and a non-negative integer n, and returns the nth color in the palette that the tool creates between those two colors with that many midpoints.\n",
        "\n",
        "For example, following the case above:\n",
        "  updatedColorBlender(220020060, 189252201, 3, 1) returns 212078095\n",
        "\n",
        "This problem is based off this tool: https://meyerweb.com/eric/tools/color-blend/#FFFF00:FF3300:6:hex. You can use this tool to make testing your code easier!\n"
      ],
      "metadata": {
        "id": "vZ7rUBnI8zm7"
      }
    },
    {
      "cell_type": "code",
      "source": [
        "def updatedColorBlender(rgb1, rgb2, midpoints, n):\n",
        "    red1, green1, blue1 = rgb1 // 1000000, (rgb1 % 1000000) // 1000, rgb1 % 1000\n",
        "    red2, green2, blue2 = rgb2 // 1000000, (rgb2 % 1000000) // 1000, rgb2 % 1000\n",
        "\n",
        "    stepRed = (red2 - red1) / (midpoints + 1)\n",
        "    stepGreen = (green2 - green1) / (midpoints + 1)\n",
        "    stepBlue = (blue2 - blue1) / (midpoints + 1)\n",
        "\n",
        "    nthRed = int(red1 + stepRed * n)\n",
        "    nthGreen = int(green1 + stepGreen * n)\n",
        "    nthBlue = int(blue1 + stepBlue * n)\n",
        "\n",
        "    nthColor = nthRed * 1000000 + nthGreen * 1000 + nthBlue\n",
        "    return nthColor"
      ],
      "metadata": {
        "id": "0FFyj32R-2ao"
      },
      "execution_count": 15,
      "outputs": []
    },
    {
      "cell_type": "code",
      "source": [
        "def testUpdatedColorBlender():\n",
        "    print(\"Testing colorBlender()...\", end=\"\")\n",
        "    assert(updatedColorBlender(220020060, 189252201, 3, 0) == 220020060)\n",
        "    assert(updatedColorBlender(220020060, 189252201, 3, 1) == 212078095)\n",
        "    assert(updatedColorBlender(220020060, 189252201, 3, 2) == 205136131)\n",
        "    assert(updatedColorBlender(220020060, 189252201, 3, 3) == 197194166)\n",
        "    assert(updatedColorBlender(220020060, 189252201, 3, 4) == 189252201)\n",
        "    assert(updatedColorBlender(1000255, 255002128, 2, 0) == 1000255)\n",
        "    assert(updatedColorBlender(1000255, 255002128, 2, 1) == 86001213)\n",
        "    assert(updatedColorBlender(1000255, 255002128, 2, 2) == 170001170)\n",
        "    assert(updatedColorBlender(1000255, 255002128, 2, 3) == 255002128)\n",
        "    print(\"Passed.\")"
      ],
      "metadata": {
        "id": "p4_Rnper-5Tg"
      },
      "execution_count": 16,
      "outputs": []
    }
  ]
}