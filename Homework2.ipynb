{
  "nbformat": 4,
  "nbformat_minor": 0,
  "metadata": {
    "colab": {
      "provenance": [],
      "include_colab_link": true
    },
    "kernelspec": {
      "name": "python3",
      "display_name": "Python 3"
    },
    "language_info": {
      "name": "python"
    }
  },
  "cells": [
    {
      "cell_type": "markdown",
      "metadata": {
        "id": "view-in-github",
        "colab_type": "text"
      },
      "source": [
        "<a href=\"https://colab.research.google.com/github/MeryemMichraf/OlympicGamesAnalysis_project/blob/main/Homework2.ipynb\" target=\"_parent\"><img src=\"https://colab.research.google.com/assets/colab-badge.svg\" alt=\"Open In Colab\"/></a>"
      ]
    },
    {
      "cell_type": "markdown",
      "source": [
        "# Homework 2: Loops and Strings\n",
        "\n",
        "* This homework is a **solo** assignment.\n",
        "* To start: Either download this assignment or copy this colab notebook.\n",
        "* To submit: Upload your homework as a **.py file** with your name in the format **ShethShivaniHW2.py** to the link on blackboard. All of the tests are provided below. You will be scored based on the number of tests you pass.\n",
        "\n"
      ],
      "metadata": {
        "id": "lxKdkQnhjeuE"
      }
    },
    {
      "cell_type": "markdown",
      "source": [
        "###**patternedMessage(message, pattern)** 25 pts\n",
        "Write the function patternedMessage(message, pattern) that takes two strings, a message and a pattern, and returns a string produced by replacing the non-whitespace characters in the pattern with the non-whitespace characters in the message. Before getting started, take a look at the test cases!\n"
      ],
      "metadata": {
        "id": "Ha_bLDamc_XX"
      }
    },
    {
      "cell_type": "code",
      "source": [
        "def patternedMessage(msg, pattern):\n",
        "    return 42"
      ],
      "metadata": {
        "id": "bfqOQeq1xMD0"
      },
      "execution_count": 1,
      "outputs": []
    },
    {
      "cell_type": "code",
      "execution_count": 3,
      "metadata": {
        "colab": {
          "base_uri": "https://localhost:8080/"
        },
        "id": "YbVvssqHcf_9",
        "outputId": "243d77f2-4039-47a6-be3a-768554f6d15e"
      },
      "outputs": [
        {
          "output_type": "stream",
          "name": "stdout",
          "text": [
            "Testing patternedMessage()...Passed!\n"
          ]
        }
      ],
      "source": [
        "def patternedMessage(msg, pattern):\n",
        "    clean_msg = ''.join(msg.split())\n",
        "\n",
        "    result = []\n",
        "    msg_index = 0\n",
        "\n",
        "    for char in pattern:\n",
        "        if char.isspace():\n",
        "            result.append(char)\n",
        "        else:\n",
        "            result.append(clean_msg[msg_index])\n",
        "            msg_index = (msg_index + 1) % len(clean_msg)\n",
        "\n",
        "    return ''.join(result)\n",
        "\n",
        "def testPatternedMessage():\n",
        "    print(\"Testing patternedMessage()...\", end=\"\")\n",
        "    parms = [\n",
        "        (\"Go Pirates!!!\",\n",
        "\"\"\"\n",
        "***************\n",
        "******   ******\n",
        "***************\n",
        "\"\"\"\n",
        "        ),\n",
        "        (\"Three Diamonds!\",\n",
        "\"\"\"\n",
        "    *     *     *\n",
        "   ***   ***   ***\n",
        "  ***** ***** *****\n",
        "   ***   ***   ***\n",
        "    *     *     *\n",
        "\"\"\"\n",
        "        ),\n",
        "        (\"Go Steelers!\",\n",
        "\"\"\"\n",
        "                          oooo$$$$$$$$$$$$oooo\n",
        "                      oo$$$$$$$$$$$$$$$$$$$$$$$$o\n",
        "                   oo$$$$$$$$$$$$$$$$$$$$$$$$$$$$$$o         o$   $$ o$\n",
        "   o $ oo        o$$$$$$$$$$$$$$$$$$$$$$$$$$$$$$$$$$$$o       $$ $$ $$o$\n",
        "oo $ $ '$      o$$$$$$$$$    $$$$$$$$$$$$$    $$$$$$$$$o       $$$o$$o$\n",
        "'$$$$$$o$     o$$$$$$$$$      $$$$$$$$$$$      $$$$$$$$$$o    $$$$$$$$\n",
        "  $$$$$$$    $$$$$$$$$$$      $$$$$$$$$$$      $$$$$$$$$$$$$$$$$$$$$$$\n",
        "  $$$$$$$$$$$$$$$$$$$$$$$    $$$$$$$$$$$$$    $$$$$$$$$$$$$$  '$$$\n",
        "   '$$$'$$$$$$$$$$$$$$$$$$$$$$$$$$$$$$$$$$$$$$$$$$$$$$$$$     '$$$\n",
        "    $$$   o$$$$$$$$$$$$$$$$$$$$$$$$$$$$$$$$$$$$$$$$$$$$$$$$$$     '$$$o\n",
        "   o$$'   $$$$$$$$$$$$$$$$$$$$$$$$$$$$$$$$$$$$$$$$$$$$$$$$$$$       $$$o\n",
        "   $$$    $$$$$$$$$$$$$$$$$$$$$$$$$$$$$$$$$$$$$$$$$$$$$' '$$$$$$ooooo$$$$o\n",
        "  o$$$oooo$$$$$  $$$$$$$$$$$$$$$$$$$$$$$$$$$$$$$$$$$$$   o$$$$$$$$$$$$$$$$$\n",
        "  $$$$$$$$'$$$$   $$$$$$$$$$$$$$$$$$$$$$$$$$$$$$$$$$     $$$$'\n",
        " ''''       $$$$    '$$$$$$$$$$$$$$$$$$$$$$$$$$$$'      o$$$\n",
        "            '$$$o     '$$$$$$$$$$$$$$$$$$'$$'         $$$\n",
        "              $$$o          '$$'$$$$$$'           o$$$\n",
        "               $$$$o                                o$$$'\n",
        "                '$$$$o      o$$$$$$o'$$$$o        o$$$$\n",
        "                  '$$$$$oo     '$$$$o$$$$$o   o$$$$'\n",
        "                     '$$$$$oooo  '$$$o$$$$$$$$$'\n",
        "                        '$$$$$$$oo $$$$$$$$$$\n",
        "                                '$$$$$$$$$$$\n",
        "                                    $$$$$$$$$$$$\n",
        "                                     $$$$$$$$$$'\n",
        "                                      '$$$'\n",
        "\"\"\"),\n",
        "        (\"A-C D?\",\n",
        "\"\"\"\n",
        "*** *** ***\n",
        "** ** ** **\n",
        "\"\"\"),\n",
        "        (\"A\", \"x y z\"),\n",
        "        (\"The pattern is empty!\", \"\")\n",
        "    ]\n",
        "    solns = [\n",
        "\"\"\"\n",
        "GoPirates!!!GoP\n",
        "irates   !!!GoP\n",
        "irates!!!GoPira\n",
        "\"\"\"\n",
        ",\n",
        "\"\"\"\n",
        "    T     h     r\n",
        "   eeD   iam   ond\n",
        "  s!Thr eeDia monds\n",
        "   !Th   ree   Dia\n",
        "    m     o     n\n",
        "\"\"\"\n",
        ",\n",
        "\"\"\"\n",
        "                          GoSteelers!GoSteeler\n",
        "                      s!GoSteelers!GoSteelers!GoS\n",
        "                   teelers!GoSteelers!GoSteelers!GoS         te   el er\n",
        "   s ! Go        Steelers!GoSteelers!GoSteelers!GoSteel       er s! GoSt\n",
        "ee l e rs      !GoSteeler    s!GoSteelers!    GoSteelers       !GoSteel\n",
        "ers!GoSte     elers!GoSt      eelers!GoSt      eelers!GoSt    eelers!G\n",
        "  oSteele    rs!GoSteele      rs!GoSteele      rs!GoSteelers!GoSteeler\n",
        "  s!GoSteelers!GoSteelers    !GoSteelers!G    oSteelers!GoSt  eele\n",
        "   rs!GoSteelers!GoSteelers!GoSteelers!GoSteelers!GoSteel     ers!\n",
        "    GoS   teelers!GoSteelers!GoSteelers!GoSteelers!GoSteelers     !GoSt\n",
        "   eele   rs!GoSteelers!GoSteelers!GoSteelers!GoSteelers!GoSt       eele\n",
        "   rs!    GoSteelers!GoSteelers!GoSteelers!GoSteelers!Go Steelers!GoSteele\n",
        "  rs!GoSteelers  !GoSteelers!GoSteelers!GoSteelers!GoS   teelers!GoSteelers\n",
        "  !GoSteelers!G   oSteelers!GoSteelers!GoSteelers!Go     Steel\n",
        " ers!       GoSt    eelers!GoSteelers!GoSteelers!G      oSte\n",
        "            elers     !GoSteelers!GoSteelers!         GoS\n",
        "              teel          ers!GoSteel           ers!\n",
        "               GoSte                                elers\n",
        "                !GoSte      elers!GoSteele        rs!Go\n",
        "                  Steelers     !GoSteelers!   GoStee\n",
        "                     lers!GoSte  elers!GoSteeler\n",
        "                        s!GoSteele rs!GoSteel\n",
        "                                ers!GoSteele\n",
        "                                    rs!GoSteeler\n",
        "                                     s!GoSteeler\n",
        "                                      s!GoS\n",
        "\"\"\",\n",
        "\"\"\"\n",
        "A-C D?A -CD\n",
        "?A -C D? A-\n",
        "\"\"\",\n",
        "\"A A A\",\n",
        "\"\"\n",
        "    ]\n",
        "    for i in range(len(parms)):\n",
        "        msg, pattern = parms[i]\n",
        "        soln = solns[i].strip()\n",
        "        observed = patternedMessage(msg, pattern).strip()\n",
        "        assert(observed == soln), f\"Test case {i+1} failed: expected {soln}, got {observed}\"\n",
        "    print(\"Passed!\")\n",
        "\n",
        "testPatternedMessage()\n",
        "\n"
      ]
    },
    {
      "cell_type": "markdown",
      "source": [
        "###**hasBalancedParentheses(s)**: 25 pts\n",
        "\n",
        "Write the function hasBalancedParentheses, which takes a string and returns True if that code has balanced parentheses and False otherwise (ignoring all non-parentheses in the string). We say that parentheses are balanced if each right parenthesis closes (matches) an open (unmatched) left parenthesis, and no left parentheses are left unclosed (unmatched) at the end of the text. So, for example, \"( ( ( ) ( ) ) ( ) )\" is balanced, but \"( ) )\" is not balanced, and \"( ) ) (\" is also not balanced. Hint: keep track of how many right parentheses remain unmatched as you iterate over the string."
      ],
      "metadata": {
        "id": "8XlAlz52cm3s"
      }
    },
    {
      "cell_type": "code",
      "source": [
        "def hasBalancedParentheses(s):\n",
        "\n",
        "    leftParens = 0\n",
        "\n",
        "    for char in s:\n",
        "        if char == '(':\n",
        "            leftParens += 1\n",
        "        elif char == ')':\n",
        "            leftParens -= 1\n",
        "            if leftParens < 0:\n",
        "\n",
        "                return False\n",
        "\n",
        "    return leftParens == 0\n",
        "\n",
        "def testHasBalancedParentheses():\n",
        "    print(\"Testing hasBalancedParentheses()...\", end=\"\")\n",
        "    assert(hasBalancedParentheses(\"()\") == True)\n",
        "    assert(hasBalancedParentheses(\"\") == True)\n",
        "    assert(hasBalancedParentheses(\"())\") == False)\n",
        "    assert(hasBalancedParentheses(\"()(\") == False)\n",
        "    assert(hasBalancedParentheses(\")(\") == False)\n",
        "    assert(hasBalancedParentheses(\"(()())\") == True)\n",
        "    assert(hasBalancedParentheses(\"((()())(()(()())))\") == True)\n",
        "    assert(hasBalancedParentheses(\"((()())(()((()())))\") == False)\n",
        "    assert(hasBalancedParentheses(\"((()())(((()())))\") == False)\n",
        "    print(\"Passed!\")\n",
        "\n",
        "testHasBalancedParentheses()\n"
      ],
      "metadata": {
        "id": "FZHE_egfcwCH",
        "colab": {
          "base_uri": "https://localhost:8080/"
        },
        "outputId": "232c26fe-4ee3-441f-87e1-f216b686dc93"
      },
      "execution_count": 4,
      "outputs": [
        {
          "output_type": "stream",
          "name": "stdout",
          "text": [
            "Testing hasBalancedParentheses()...Passed!\n"
          ]
        }
      ]
    },
    {
      "cell_type": "markdown",
      "source": [
        "### **bestStudentAndAvg(gradebook)** 25pts\n",
        "Background: for this problem, a \"gradebook\" is a multiline string where each row contains a student's name (one word, all lowercase) followed by one or more comma-separated integer grades. A gradebook always contains at least one student, and each row always contains at least one grade. Gradebooks can also contain blank lines and lines starting with the \"#\" character, which should be ignored.\n",
        "\n",
        "With this in mind, write the function bestStudentAndAvg(gradebook), that takes a gradebook and finds the student with the best average (ignoring the case where there is a tie) and returns a string of that student's name followed by a colon (\":\") followed by his/her average (rounded to the nearest integer).\n",
        "\n",
        "Note: you most likely will want to use both s.split(\",\") and s.splitlines() in your solution."
      ],
      "metadata": {
        "id": "FuqW2BAVcu21"
      }
    },
    {
      "cell_type": "code",
      "source": [],
      "metadata": {
        "id": "rk74G9pqd9xB"
      },
      "execution_count": 5,
      "outputs": []
    },
    {
      "cell_type": "code",
      "source": [
        "def bestStudentAndAvg(gradebook):\n",
        "    best_student = None\n",
        "    best_avg = -float('inf')\n",
        "\n",
        "    for line in gradebook.splitlines():\n",
        "        if not line.strip() or line.strip().startswith('#'):\n",
        "            continue\n",
        "\n",
        "        parts = line.split(',')\n",
        "        student = parts[0]\n",
        "        grades = list(map(int, parts[1:]))\n",
        "\n",
        "        avg = round(sum(grades) / len(grades))\n",
        "        if avg > best_avg:\n",
        "            best_student = student\n",
        "            best_avg = avg\n",
        "\n",
        "    return f\"{best_student}:{best_avg}\"\n",
        "\n",
        "def testBestStudentAndAvg():\n",
        "    print(\"Testing bestStudentAndAvg()...\", end=\"\")\n",
        "\n",
        "    gradebook = \"\"\"\n",
        "# ignore  blank lines and lines starting  with  #'s\n",
        "wilma,91,93\n",
        "fred,80,85,90,95,100\n",
        "betty,88\n",
        "\"\"\"\n",
        "    assert(bestStudentAndAvg(gradebook) ==  \"wilma:92\")\n",
        "\n",
        "    gradebook   =   \"\"\"\n",
        "#   ignore  blank   lines   and lines   starting    with    #'s\n",
        "wilma,93,95\n",
        "\n",
        "fred,80,85,90,95,100\n",
        "betty,88\n",
        "\"\"\"\n",
        "    assert(bestStudentAndAvg(gradebook) ==  \"wilma:94\")\n",
        "\n",
        "    gradebook = \"fred,0\"\n",
        "    assert(bestStudentAndAvg(gradebook) ==  \"fred:0\")\n",
        "\n",
        "    gradebook = \"fred,-1\\nwilma,-2\"\n",
        "    assert(bestStudentAndAvg(gradebook) ==  \"fred:-1\")\n",
        "\n",
        "    gradebook = \"fred,100\"\n",
        "    assert(bestStudentAndAvg(gradebook) ==  \"fred:100\")\n",
        "\n",
        "    gradebook = \"fred,100,110\"\n",
        "    assert(bestStudentAndAvg(gradebook) ==  \"fred:105\")\n",
        "\n",
        "    gradebook = \"fred,49\\nwilma\" + \",50\"*50\n",
        "    assert(bestStudentAndAvg(gradebook) ==  \"wilma:50\")\n",
        "\n",
        "    print(\"Passed!\")\n",
        "\n",
        "testBestStudentAndAvg()\n"
      ],
      "metadata": {
        "id": "8VNIeasvxXmT",
        "colab": {
          "base_uri": "https://localhost:8080/"
        },
        "outputId": "e921e7fe-5b0f-4b4d-943d-82d0f240e122"
      },
      "execution_count": 8,
      "outputs": [
        {
          "output_type": "stream",
          "name": "stdout",
          "text": [
            "Testing bestStudentAndAvg()...Passed!\n"
          ]
        }
      ]
    },
    {
      "cell_type": "markdown",
      "source": [
        "### **nthKaprekarNumber**(n) 25 pts\n",
        "\n",
        "Background: a Kaprekar number is a non-negative integer, the representation of whose square can be split into two possibly-different-length parts (where the right part is not zero) that add up to the original number again. For instance, 45 is a Kaprekar number, because 45**2 = 2025 and 20+25 = 45. You can google kaprekar numbers for more details. The first several Kaprekar numbers are: 1, 9, 45, 55, 99, 297, 703, 999 , 2223, 2728,...\n",
        "\n",
        "With this in mind, write the function nthKaprekarNumber(n) that takes a non-negative int n and returns the nth Kaprekar number. For example, nthKaprekarNumber(0) == 1."
      ],
      "metadata": {
        "id": "ruBG5wINd-Ow"
      }
    },
    {
      "cell_type": "code",
      "source": [
        "def isKaprekar(k):\n",
        "    if k == 1:\n",
        "        return True\n",
        "    squared = str(k ** 2)\n",
        "    for i in range(1, len(squared)):\n",
        "        left = int(squared[:i]) if squared[:i] else 0\n",
        "        right = int(squared[i:])\n",
        "        if right != 0 and left + right == k:\n",
        "            return True\n",
        "    return False\n",
        "\n",
        "def nthKaprekarNumber(n):\n",
        "    count = -1\n",
        "    number = 0\n",
        "    while count < n:\n",
        "        if isKaprekar(number):\n",
        "            count += 1\n",
        "        number += 1\n",
        "    return number - 1\n",
        "\n",
        "\n",
        "def testNthKaprekarNumber():\n",
        "    print('Testing nthKaprekarNumber()...', end='')\n",
        "    assert(nthKaprekarNumber(0) == 1), \"Test case 0 failed\"\n",
        "    assert(nthKaprekarNumber(1) == 9), \"Test case 1 failed\"\n",
        "    assert(nthKaprekarNumber(2) == 45), \"Test case 2 failed\"\n",
        "    assert(nthKaprekarNumber(3) == 55), \"Test case 3 failed\"\n",
        "    assert(nthKaprekarNumber(4) == 99), \"Test case 4 failed\"\n",
        "    assert(nthKaprekarNumber(5) == 297), \"Test case 5 failed\"\n",
        "    assert(nthKaprekarNumber(6) == 703), \"Test case 6 failed\"\n",
        "    assert(nthKaprekarNumber(7) == 999), \"Test case 7 failed\"\n",
        "    print('Passed.')\n",
        "\n",
        "testNthKaprekarNumber()\n"
      ],
      "metadata": {
        "id": "dfbWPZ3CgzWR",
        "colab": {
          "base_uri": "https://localhost:8080/"
        },
        "outputId": "ab6d7ae9-144e-487b-f4f4-0793f7dcb96c"
      },
      "execution_count": 9,
      "outputs": [
        {
          "output_type": "stream",
          "name": "stdout",
          "text": [
            "Testing nthKaprekarNumber()...Passed.\n"
          ]
        }
      ]
    },
    {
      "cell_type": "markdown",
      "source": [
        "###**BONUS: eval(expr)** (10 pts)\n",
        "Write the function eval(expr), that takes a string containing an arithmetic expression, and returns the answer. The expressions (**), (*, /, //, %), (+, -) are allowed and should be evaluated in that order. Look at the test cases for more clarity.\n",
        "\n",
        "Hint: You'll end up repeating a lot of code. Try creating a helper function! Modularize!!!"
      ],
      "metadata": {
        "id": "GBP9ly_y6mFD"
      }
    },
    {
      "cell_type": "code",
      "source": [
        "def eval(expr):\n",
        "    def apply_op(operands, operator):\n",
        "        b = operands.pop()\n",
        "        a = operands.pop()\n",
        "        if operator == '+': return a + b\n",
        "        elif operator == '-': return a - b\n",
        "        elif operator == '*': return a * b\n",
        "        elif operator == '/': return a / b\n",
        "        elif operator == '//': return a // b\n",
        "        elif operator == '%': return a % b\n",
        "        elif operator == '**': return a ** b\n",
        "\n",
        "    def precedence(op):\n",
        "        if op == '+' or op == '-':\n",
        "            return 1\n",
        "        elif op == '*' or op == '/' or op == '%':\n",
        "            return 2\n",
        "        elif op == '//':\n",
        "            return 2\n",
        "        elif op == '**':\n",
        "            return 3\n",
        "        return 0\n",
        "\n",
        "    def evaluate(expression):\n",
        "        i, n = 0, len(expression)\n",
        "        values = []\n",
        "        ops = []\n",
        "        while i < n:\n",
        "            if expression[i] == ' ':\n",
        "                i += 1\n",
        "                continue\n",
        "            elif expression[i].isdigit():\n",
        "                val = 0\n",
        "                while i < n and expression[i].isdigit():\n",
        "                    val = val * 10 + int(expression[i])\n",
        "                    i += 1\n",
        "                values.append(val)\n",
        "                i -= 1\n",
        "            elif expression[i] in \"+-*/%**//\":\n",
        "                while (ops and precedence(ops[-1]) >= precedence(expression[i]) and\n",
        "                       ops[-1] != '('):\n",
        "                    values.append(apply_op(values, ops.pop()))\n",
        "                ops.append(expression[i])\n",
        "                if expression[i] in ('*', '/') and i + 1 < n and expression[i + 1] == expression[i]:\n",
        "                    ops[-1] += expression[i]\n",
        "                    i += 1\n",
        "            i += 1\n",
        "        while ops:\n",
        "            values.append(apply_op(values, ops.pop()))\n",
        "        return values[0]\n",
        "\n",
        "    expr = expr.replace(' ', '')\n",
        "    return str(evaluate(expr))\n",
        "\n",
        "\n",
        "def testEval():\n",
        "    print('Testing eval()...', end='')\n",
        "    assert(eval(\"0\") == \"0\")\n",
        "    assert(eval(\"2\") == \"2\")\n",
        "    assert(eval(\"3+2\") == \"5\")\n",
        "    assert(eval(\"3-2\") == \"1\")\n",
        "    assert(eval(\"3**2\") == \"9\")\n",
        "    assert(eval(\"31%16\") == \"15\")\n",
        "    assert(eval(\"31*16\") == \"496\")\n",
        "    assert(eval(\"32//16\") == \"2\")\n",
        "    assert(eval(\"2+3*4\") == \"14\")\n",
        "    assert(eval(\"2*3+4\") == \"10\")\n",
        "    assert(eval(\"2+3*4-8**3%3\") == \"12\")\n",
        "    assert(eval(\"2+3**4%2**4+15//3-8\") == \"0\")\n",
        "    print('Passed.')\n",
        "\n",
        "testEval()\n"
      ],
      "metadata": {
        "id": "Yk-WtLdo7cY-",
        "colab": {
          "base_uri": "https://localhost:8080/"
        },
        "outputId": "18c452c0-6b9b-422c-fbd5-cc3d60a0e7ae"
      },
      "execution_count": 10,
      "outputs": [
        {
          "output_type": "stream",
          "name": "stdout",
          "text": [
            "Testing eval()...Passed.\n"
          ]
        }
      ]
    }
  ]
}